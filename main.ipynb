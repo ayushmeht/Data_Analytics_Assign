{
  "nbformat": 4,
  "nbformat_minor": 0,
  "metadata": {
    "colab": {
      "provenance": []
    },
    "kernelspec": {
      "name": "python3",
      "display_name": "Python 3"
    },
    "language_info": {
      "name": "python"
    }
  },
  "cells": [
    {
      "cell_type": "code",
      "source": [
        "import pandas as pd\n",
        "\n",
        "excel_file = \"dataset.xlsx\"\n",
        "\n",
        "sheets = pd.read_excel(excel_file, sheet_name=None)\n",
        "\n",
        "\n",
        "for sheet_name, data in sheets.items():\n",
        "    csv_file_name = f\"{sheet_name}\"\n",
        "    data.to_csv(csv_file_name, index=False)\n",
        "    print(f\"Saved {sheet_name} to {csv_file_name}\")\n"
      ],
      "metadata": {
        "colab": {
          "base_uri": "https://localhost:8080/"
        },
        "id": "PYOqvT-xLx_h",
        "outputId": "ddd2ecc6-3c9d-4fd4-f5c9-4d83f7227672"
      },
      "execution_count": 10,
      "outputs": [
        {
          "output_type": "stream",
          "name": "stdout",
          "text": [
            "Saved UserDetails.csv to UserDetails.csv\n",
            "Saved CookingSessions.csv to CookingSessions.csv\n",
            "Saved OrderDetails.csv to OrderDetails.csv\n"
          ]
        }
      ]
    },
    {
      "cell_type": "code",
      "execution_count": 11,
      "metadata": {
        "id": "m9jhsSa-I_gg"
      },
      "outputs": [],
      "source": [
        "import pandas as pd\n",
        "import numpy as np\n",
        "\n",
        "\n",
        "user_details = pd.read_csv(\"UserDetails.csv\")\n",
        "cooking_sessions = pd.read_csv(\"CookingSessions.csv\")\n",
        "order_details = pd.read_csv(\"OrderDetails.csv\")\n",
        "\n",
        "order_details['Rating'] = order_details['Rating'].fillna(order_details['Rating'].median())\n",
        "order_details = order_details[order_details['Order Status'] != 'Canceled']\n",
        "\n",
        "user_details['Registration Date'] = pd.to_datetime(user_details['Registration Date'])\n",
        "order_details['Order Date'] = pd.to_datetime(order_details['Order Date'])\n",
        "\n",
        "\n",
        "user_details.drop_duplicates(inplace=True)\n",
        "cooking_sessions.drop_duplicates(inplace=True)\n",
        "order_details.drop_duplicates(inplace=True)\n",
        "\n",
        "\n",
        "user_details.to_csv(\"cleaned_user_details.csv\", index=False)\n",
        "cooking_sessions.to_csv(\"cleaned_cooking_sessions.csv\", index=False)\n",
        "order_details.to_csv(\"cleaned_order_details.csv\", index=False)\n"
      ]
    },
    {
      "cell_type": "code",
      "source": [
        "# Print all column names for each DataFrame\n",
        "print(\"Columns in order_details:\")\n",
        "print(order_details.columns)\n",
        "\n",
        "print(\"\\nColumns in cooking_sessions:\")\n",
        "print(cooking_sessions.columns)\n",
        "\n",
        "print(\"\\nColumns in user_details:\")\n",
        "print(user_details.columns)\n"
      ],
      "metadata": {
        "colab": {
          "base_uri": "https://localhost:8080/"
        },
        "id": "sDGdfAZ-S8WP",
        "outputId": "9c2984d8-6ad7-4167-a7c8-0b1b92aea672"
      },
      "execution_count": 20,
      "outputs": [
        {
          "output_type": "stream",
          "name": "stdout",
          "text": [
            "Columns in order_details:\n",
            "Index(['order id', 'user id', 'order date', 'meal type', 'dish name',\n",
            "       'order status', 'amount (usd)', 'time of day', 'rating', 'session id'],\n",
            "      dtype='object')\n",
            "\n",
            "Columns in cooking_sessions:\n",
            "Index(['session id', 'user id', 'dish name', 'meal type', 'session start',\n",
            "       'session end', 'duration (mins)', 'session rating'],\n",
            "      dtype='object')\n",
            "\n",
            "Columns in user_details:\n",
            "Index(['user id', 'user name', 'age', 'location', 'registration date', 'phone',\n",
            "       'email', 'favorite meal', 'total orders'],\n",
            "      dtype='object')\n"
          ]
        }
      ]
    },
    {
      "cell_type": "code",
      "source": [
        "\n",
        "merged_data = order_details.merge(\n",
        "    cooking_sessions, on=\"user id\", how=\"left\"\n",
        ").merge(user_details, on=\"user id\", how=\"left\")\n",
        "\n",
        "# Save merged data\n",
        "merged_data.to_csv(\"merged_data.csv\", index=False)\n",
        "print(merged_data)"
      ],
      "metadata": {
        "colab": {
          "base_uri": "https://localhost:8080/"
        },
        "id": "6Xe6T2mmLwkc",
        "outputId": "15710822-cd74-4c5a-a0e1-3a38333276af"
      },
      "execution_count": 23,
      "outputs": [
        {
          "output_type": "stream",
          "name": "stdout",
          "text": [
            "    order id user id order date meal type_x      dish name_x order status  \\\n",
            "0       1001    U001 2024-12-01      Dinner        Spaghetti    Completed   \n",
            "1       1001    U001 2024-12-01      Dinner        Spaghetti    Completed   \n",
            "2       1001    U001 2024-12-01      Dinner        Spaghetti    Completed   \n",
            "3       1002    U002 2024-12-01       Lunch     Caesar Salad    Completed   \n",
            "4       1002    U002 2024-12-01       Lunch     Caesar Salad    Completed   \n",
            "5       1002    U002 2024-12-01       Lunch     Caesar Salad    Completed   \n",
            "6       1004    U001 2024-12-02   Breakfast         Pancakes    Completed   \n",
            "7       1004    U001 2024-12-02   Breakfast         Pancakes    Completed   \n",
            "8       1004    U001 2024-12-02   Breakfast         Pancakes    Completed   \n",
            "9       1005    U004 2024-12-03       Lunch     Caesar Salad    Completed   \n",
            "10      1005    U004 2024-12-03       Lunch     Caesar Salad    Completed   \n",
            "11      1006    U002 2024-12-03      Dinner        Spaghetti    Completed   \n",
            "12      1006    U002 2024-12-03      Dinner        Spaghetti    Completed   \n",
            "13      1006    U002 2024-12-03      Dinner        Spaghetti    Completed   \n",
            "14      1007    U005 2024-12-04      Dinner  Grilled Chicken    Completed   \n",
            "15      1007    U005 2024-12-04      Dinner  Grilled Chicken    Completed   \n",
            "16      1009    U001 2024-12-05      Dinner  Grilled Chicken    Completed   \n",
            "17      1009    U001 2024-12-05      Dinner  Grilled Chicken    Completed   \n",
            "18      1009    U001 2024-12-05      Dinner  Grilled Chicken    Completed   \n",
            "19      1010    U002 2024-12-05   Breakfast          Oatmeal    Completed   \n",
            "20      1010    U002 2024-12-05   Breakfast          Oatmeal    Completed   \n",
            "21      1010    U002 2024-12-05   Breakfast          Oatmeal    Completed   \n",
            "22      1011    U003 2024-12-06   Breakfast         Pancakes    Completed   \n",
            "23      1011    U003 2024-12-06   Breakfast         Pancakes    Completed   \n",
            "24      1011    U003 2024-12-06   Breakfast         Pancakes    Completed   \n",
            "25      1012    U004 2024-12-06      Dinner        Spaghetti    Completed   \n",
            "26      1012    U004 2024-12-06      Dinner        Spaghetti    Completed   \n",
            "27      1013    U005 2024-12-07       Lunch     Caesar Salad    Completed   \n",
            "28      1013    U005 2024-12-07       Lunch     Caesar Salad    Completed   \n",
            "29      1014    U006 2024-12-07      Dinner  Grilled Chicken    Completed   \n",
            "30      1015    U007 2024-12-08      Dinner        Spaghetti    Completed   \n",
            "31      1016    U008 2024-12-08       Lunch    Veggie Burger    Completed   \n",
            "\n",
            "    amount (usd) time of day  rating session id_x  ... duration (mins)  \\\n",
            "0           15.0       Night     5.0         S001  ...              30   \n",
            "1           15.0       Night     5.0         S001  ...              30   \n",
            "2           15.0       Night     5.0         S001  ...              40   \n",
            "3           10.0         Day     4.0         S002  ...              20   \n",
            "4           10.0         Day     4.0         S002  ...              30   \n",
            "5           10.0         Day     4.0         S002  ...              10   \n",
            "6            8.0     Morning     4.0         S004  ...              30   \n",
            "7            8.0     Morning     4.0         S004  ...              30   \n",
            "8            8.0     Morning     4.0         S004  ...              40   \n",
            "9            9.0         Day     4.0         S005  ...              15   \n",
            "10           9.0         Day     4.0         S005  ...              40   \n",
            "11          14.0       Night     4.0         S006  ...              20   \n",
            "12          14.0       Night     4.0         S006  ...              30   \n",
            "13          14.0       Night     4.0         S006  ...              10   \n",
            "14          13.5       Night     4.0         S007  ...              45   \n",
            "15          13.5       Night     4.0         S007  ...              30   \n",
            "16          12.0       Night     5.0         S009  ...              30   \n",
            "17          12.0       Night     5.0         S009  ...              30   \n",
            "18          12.0       Night     5.0         S009  ...              40   \n",
            "19           7.0     Morning     4.0         S010  ...              20   \n",
            "20           7.0     Morning     4.0         S010  ...              30   \n",
            "21           7.0     Morning     4.0         S010  ...              10   \n",
            "22           8.5     Morning     4.0         S011  ...              40   \n",
            "23           8.5     Morning     4.0         S011  ...              20   \n",
            "24           8.5     Morning     4.0         S011  ...              30   \n",
            "25          12.5       Night     4.0         S012  ...              15   \n",
            "26          12.5       Night     4.0         S012  ...              40   \n",
            "27           9.0         Day     4.0         S013  ...              45   \n",
            "28           9.0         Day     4.0         S013  ...              30   \n",
            "29          13.0       Night     5.0         S014  ...              45   \n",
            "30          14.0       Night     5.0         S015  ...              40   \n",
            "31          11.0         Day     4.0         S016  ...              20   \n",
            "\n",
            "   session rating      user name age       location  registration date  \\\n",
            "0             4.5  Alice Johnson  28       New York         2023-01-15   \n",
            "1             4.2  Alice Johnson  28       New York         2023-01-15   \n",
            "2             4.9  Alice Johnson  28       New York         2023-01-15   \n",
            "3             4.0      Bob Smith  35    Los Angeles         2023-02-20   \n",
            "4             4.3      Bob Smith  35    Los Angeles         2023-02-20   \n",
            "5             4.1      Bob Smith  35    Los Angeles         2023-02-20   \n",
            "6             4.5  Alice Johnson  28       New York         2023-01-15   \n",
            "7             4.2  Alice Johnson  28       New York         2023-01-15   \n",
            "8             4.9  Alice Johnson  28       New York         2023-01-15   \n",
            "9             4.7    David Brown  27  San Francisco         2023-04-05   \n",
            "10            4.7    David Brown  27  San Francisco         2023-04-05   \n",
            "11            4.0      Bob Smith  35    Los Angeles         2023-02-20   \n",
            "12            4.3      Bob Smith  35    Los Angeles         2023-02-20   \n",
            "13            4.1      Bob Smith  35    Los Angeles         2023-02-20   \n",
            "14            4.6     Emma White  30        Seattle         2023-05-22   \n",
            "15            4.4     Emma White  30        Seattle         2023-05-22   \n",
            "16            4.5  Alice Johnson  28       New York         2023-01-15   \n",
            "17            4.2  Alice Johnson  28       New York         2023-01-15   \n",
            "18            4.9  Alice Johnson  28       New York         2023-01-15   \n",
            "19            4.0      Bob Smith  35    Los Angeles         2023-02-20   \n",
            "20            4.3      Bob Smith  35    Los Angeles         2023-02-20   \n",
            "21            4.1      Bob Smith  35    Los Angeles         2023-02-20   \n",
            "22            4.8    Charlie Lee  42        Chicago         2023-03-10   \n",
            "23            4.4    Charlie Lee  42        Chicago         2023-03-10   \n",
            "24            4.6    Charlie Lee  42        Chicago         2023-03-10   \n",
            "25            4.7    David Brown  27  San Francisco         2023-04-05   \n",
            "26            4.7    David Brown  27  San Francisco         2023-04-05   \n",
            "27            4.6     Emma White  30        Seattle         2023-05-22   \n",
            "28            4.4     Emma White  30        Seattle         2023-05-22   \n",
            "29            4.8    Frank Green  25         Austin         2023-06-15   \n",
            "30            5.0     Grace King  38         Boston         2023-07-02   \n",
            "31            4.3      Henry Lee  31          Miami         2023-08-11   \n",
            "\n",
            "           phone              email  favorite meal total orders  \n",
            "0   123-456-7890    alice@email.com         Dinner           12  \n",
            "1   123-456-7890    alice@email.com         Dinner           12  \n",
            "2   123-456-7890    alice@email.com         Dinner           12  \n",
            "3   987-654-3210      bob@email.com          Lunch            8  \n",
            "4   987-654-3210      bob@email.com          Lunch            8  \n",
            "5   987-654-3210      bob@email.com          Lunch            8  \n",
            "6   123-456-7890    alice@email.com         Dinner           12  \n",
            "7   123-456-7890    alice@email.com         Dinner           12  \n",
            "8   123-456-7890    alice@email.com         Dinner           12  \n",
            "9   444-333-2222    david@email.com         Dinner           10  \n",
            "10  444-333-2222    david@email.com         Dinner           10  \n",
            "11  987-654-3210      bob@email.com          Lunch            8  \n",
            "12  987-654-3210      bob@email.com          Lunch            8  \n",
            "13  987-654-3210      bob@email.com          Lunch            8  \n",
            "14  777-888-9999     emma@email.com          Lunch            9  \n",
            "15  777-888-9999     emma@email.com          Lunch            9  \n",
            "16  123-456-7890    alice@email.com         Dinner           12  \n",
            "17  123-456-7890    alice@email.com         Dinner           12  \n",
            "18  123-456-7890    alice@email.com         Dinner           12  \n",
            "19  987-654-3210      bob@email.com          Lunch            8  \n",
            "20  987-654-3210      bob@email.com          Lunch            8  \n",
            "21  987-654-3210      bob@email.com          Lunch            8  \n",
            "22  555-123-4567  charlie@email.com      Breakfast           15  \n",
            "23  555-123-4567  charlie@email.com      Breakfast           15  \n",
            "24  555-123-4567  charlie@email.com      Breakfast           15  \n",
            "25  444-333-2222    david@email.com         Dinner           10  \n",
            "26  444-333-2222    david@email.com         Dinner           10  \n",
            "27  777-888-9999     emma@email.com          Lunch            9  \n",
            "28  777-888-9999     emma@email.com          Lunch            9  \n",
            "29  888-777-6666    frank@email.com         Dinner            7  \n",
            "30  999-888-7777    grace@email.com      Breakfast           14  \n",
            "31  101-202-3030    henry@email.com         Dinner            5  \n",
            "\n",
            "[32 rows x 25 columns]\n"
          ]
        }
      ]
    },
    {
      "cell_type": "code",
      "source": [
        "popular_dishes = merged_data.groupby('dish name_x').size().sort_values(ascending=False)\n",
        "print(popular_dishes)\n"
      ],
      "metadata": {
        "colab": {
          "base_uri": "https://localhost:8080/"
        },
        "id": "4KWzhhDsLV6k",
        "outputId": "de8ff26a-6682-4799-b1e4-299b25aa6099"
      },
      "execution_count": 26,
      "outputs": [
        {
          "output_type": "stream",
          "name": "stdout",
          "text": [
            "dish name_x\n",
            "Spaghetti          9\n",
            "Caesar Salad       7\n",
            "Grilled Chicken    6\n",
            "Pancakes           6\n",
            "Oatmeal            3\n",
            "Veggie Burger      1\n",
            "dtype: int64\n"
          ]
        }
      ]
    },
    {
      "cell_type": "code",
      "source": [
        "revenue_by_meal = merged_data.groupby('meal type_x')['amount (usd)'].sum()\n",
        "print(revenue_by_meal)\n"
      ],
      "metadata": {
        "colab": {
          "base_uri": "https://localhost:8080/"
        },
        "id": "9a6-7HavPwgq",
        "outputId": "df1ea03d-fa6e-4d9f-e3c4-d5e5889afa83"
      },
      "execution_count": 29,
      "outputs": [
        {
          "output_type": "stream",
          "name": "stdout",
          "text": [
            "meal type_x\n",
            "Breakfast     70.5\n",
            "Dinner       202.0\n",
            "Lunch         77.0\n",
            "Name: amount (usd), dtype: float64\n"
          ]
        }
      ]
    },
    {
      "cell_type": "code",
      "source": [
        "orders_by_location = merged_data.groupby('location').size().sort_values(ascending=False)\n",
        "print(orders_by_location)\n"
      ],
      "metadata": {
        "colab": {
          "base_uri": "https://localhost:8080/"
        },
        "id": "DH-U5gCRUn_4",
        "outputId": "05ef60f5-6982-4d01-d607-395a9d6d3fc4"
      },
      "execution_count": 30,
      "outputs": [
        {
          "output_type": "stream",
          "name": "stdout",
          "text": [
            "location\n",
            "Los Angeles      9\n",
            "New York         9\n",
            "San Francisco    4\n",
            "Seattle          4\n",
            "Chicago          3\n",
            "Austin           1\n",
            "Boston           1\n",
            "Miami            1\n",
            "dtype: int64\n"
          ]
        }
      ]
    },
    {
      "cell_type": "code",
      "source": [
        "import matplotlib.pyplot as plt\n",
        "import seaborn as sns\n",
        "\n",
        "popular_dishes.head(5).plot(kind='bar', color='skyblue', title='Top 5 Popular Dishes')\n",
        "plt.ylabel('Number of Orders')\n",
        "plt.show()\n"
      ],
      "metadata": {
        "colab": {
          "base_uri": "https://localhost:8080/",
          "height": 563
        },
        "id": "0n3pzrNGUqfR",
        "outputId": "a79db236-15fe-445c-ac45-7074649acb4c"
      },
      "execution_count": 32,
      "outputs": [
        {
          "output_type": "display_data",
          "data": {
            "text/plain": [
              "<Figure size 640x480 with 1 Axes>"
            ],
            "image/png": "[encoded data removed]"
          },
          "metadata": {}
        }
      ]
    },
    {
      "cell_type": "code",
      "source": [
        "revenue_by_meal.plot(kind='pie', autopct='%1.1f%%', title='Revenue by Meal Type')\n",
        "plt.ylabel('')\n",
        "plt.show()\n"
      ],
      "metadata": {
        "colab": {
          "base_uri": "https://localhost:8080/",
          "height": 428
        },
        "id": "QRnAg1ygUxHn",
        "outputId": "59d72714-621d-4347-a870-0d5829e317aa"
      },
      "execution_count": 33,
      "outputs": [
        {
          "output_type": "display_data",
          "data": {
            "text/plain": [
              "<Figure size 640x480 with 1 Axes>"
            ],
            "image/png": "[encoded data removed]"
          },
          "metadata": {}
        }
      ]
    },
    {
      "cell_type": "code",
      "source": [
        "correlation = merged_data[['age', 'amount (usd)', 'rating']].corr()\n",
        "sns.heatmap(correlation, annot=True, cmap='coolwarm')\n",
        "plt.title('Correlation Heatmap')\n",
        "plt.show()\n"
      ],
      "metadata": {
        "colab": {
          "base_uri": "https://localhost:8080/",
          "height": 452
        },
        "id": "7Qz-ezBmU512",
        "outputId": "be02bb82-d045-49a3-cd28-bf7c317a090a"
      },
      "execution_count": 35,
      "outputs": [
        {
          "output_type": "display_data",
          "data": {
            "text/plain": [
              "<Figure size 640x480 with 2 Axes>"
            ],
            "image/png": "[encoded data removed]"
          },
          "metadata": {}
        }
      ]
    },
    {
      "cell_type": "code",
      "source": [
        "from fpdf import FPDF\n",
        "\n",
        "# Create PDF\n",
        "class PDF(FPDF):\n",
        "    def header(self):\n",
        "        self.set_font('Arial', 'B', 12)\n",
        "        self.cell(0, 10, 'Business Recommendations Report', align='C', ln=True)\n",
        "\n",
        "    def footer(self):\n",
        "        self.set_y(-15)\n",
        "        self.set_font('Arial', 'I', 8)\n",
        "        self.cell(0, 10, f'Page {self.page_no()}', align='C')\n",
        "\n",
        "pdf = PDF()\n",
        "pdf.add_page()\n",
        "pdf.set_font('Arial', '', 12)\n",
        "\n",
        "recommendations = [\n",
        "    \"1. Promote Spaghetti as it is the most popular dish.\",\n",
        "    \"2. Focus marketing efforts on Dinner as it generates the highest revenue.\",\n",
        "    \"3. Target users in New York and Los Angeles as they have the highest order volume.\",\n",
        "    \"4. Offer discounts to attract younger users (ages 25-35).\",\n",
        "    \"5. Increase cooking session engagement by correlating with popular dishes.\"\n",
        "]\n",
        "\n",
        "for line in recommendations:\n",
        "    pdf.cell(0, 10, line, ln=True)\n",
        "\n",
        "pdf.output(\"Business_Recommendations.pdf\")\n"
      ],
      "metadata": {
        "colab": {
          "base_uri": "https://localhost:8080/",
          "height": 35
        },
        "id": "6ItOQlPRU-fX",
        "outputId": "cacc48dc-b825-4aa6-f9c3-7e5c2b492453"
      },
      "execution_count": 39,
      "outputs": [
        {
          "output_type": "execute_result",
          "data": {
            "text/plain": [
              "''"
            ],
            "application/vnd.google.colaboratory.intrinsic+json": {
              "type": "string"
            }
          },
          "metadata": {},
          "execution_count": 39
        }
      ]
    },
    {
      "cell_type": "code",
      "source": [],
      "metadata": {
        "id": "FjLVMff-V-zU"
      },
      "execution_count": null,
      "outputs": []
    }
  ]
}